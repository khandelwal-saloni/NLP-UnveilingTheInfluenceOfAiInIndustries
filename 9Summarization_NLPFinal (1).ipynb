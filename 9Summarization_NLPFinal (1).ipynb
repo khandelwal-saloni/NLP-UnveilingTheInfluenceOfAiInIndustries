{
  "cells": [
    {
      "cell_type": "markdown",
      "id": "19263d86",
      "metadata": {
        "id": "19263d86"
      },
      "source": [
        "## Script 9, Saloni Khandelwal\n",
        "## Summarization: Articles Positive and Negative"
      ]
    },
    {
      "cell_type": "code",
      "execution_count": null,
      "id": "360bdc3c",
      "metadata": {
        "id": "360bdc3c"
      },
      "outputs": [],
      "source": [
        "import pandas as pd\n",
        "import spacy\n",
        "from collections import Counter"
      ]
    },
    {
      "cell_type": "code",
      "execution_count": null,
      "id": "8f5c2792",
      "metadata": {
        "id": "8f5c2792"
      },
      "outputs": [],
      "source": [
        "from sumy.parsers.plaintext import PlaintextParser\n",
        "from sumy.nlp.tokenizers import Tokenizer\n",
        "from sumy.summarizers.lex_rank import LexRankSummarizer"
      ]
    },
    {
      "cell_type": "code",
      "execution_count": null,
      "id": "264f6bf4",
      "metadata": {
        "id": "264f6bf4",
        "outputId": "d832b730-d377-46d1-c0ba-993473f501b1"
      },
      "outputs": [
        {
          "data": {
            "text/html": [
              "<div>\n",
              "<style scoped>\n",
              "    .dataframe tbody tr th:only-of-type {\n",
              "        vertical-align: middle;\n",
              "    }\n",
              "\n",
              "    .dataframe tbody tr th {\n",
              "        vertical-align: top;\n",
              "    }\n",
              "\n",
              "    .dataframe thead th {\n",
              "        text-align: right;\n",
              "    }\n",
              "</style>\n",
              "<table border=\"1\" class=\"dataframe\">\n",
              "  <thead>\n",
              "    <tr style=\"text-align: right;\">\n",
              "      <th></th>\n",
              "      <th>url</th>\n",
              "      <th>date</th>\n",
              "      <th>language</th>\n",
              "      <th>title</th>\n",
              "      <th>text</th>\n",
              "      <th>cleaned_text</th>\n",
              "      <th>important_words</th>\n",
              "      <th>tokens</th>\n",
              "      <th>topic</th>\n",
              "      <th>predicted_sentiment_yelp_new</th>\n",
              "      <th>sentiment_numeric</th>\n",
              "      <th>entities</th>\n",
              "      <th>organization</th>\n",
              "      <th>products</th>\n",
              "      <th>GPE</th>\n",
              "    </tr>\n",
              "  </thead>\n",
              "  <tbody>\n",
              "    <tr>\n",
              "      <th>0</th>\n",
              "      <td>http://en.people.cn/n3/2021/0318/c90000-983012...</td>\n",
              "      <td>2021-03-18</td>\n",
              "      <td>en</td>\n",
              "      <td>Artificial intelligence improves parking effic...</td>\n",
              "      <td>\\n\\nArtificial intelligence improves parking e...</td>\n",
              "      <td>Some urban areas of the city started to use ET...</td>\n",
              "      <td>urban areas city started use etc system roadsi...</td>\n",
              "      <td>[urban, areas, city, started, use, etc, system...</td>\n",
              "      <td>0</td>\n",
              "      <td>p</td>\n",
              "      <td>1</td>\n",
              "      <td>[[ETC, ORG], [July 1, 2019, DATE], [ETC, ORG],...</td>\n",
              "      <td>[ETC, ETC, AI, ETC, Wang, ETC, AIpark, AI, AI,...</td>\n",
              "      <td>[]</td>\n",
              "      <td>[Chaoyang, Beijing, Beijing, Beijing, China, C...</td>\n",
              "    </tr>\n",
              "    <tr>\n",
              "      <th>1</th>\n",
              "      <td>http://newsparliament.com/2020/02/27/children-...</td>\n",
              "      <td>2020-02-27</td>\n",
              "      <td>en</td>\n",
              "      <td>Children With Autism Saw Their Learning and So...</td>\n",
              "      <td>\\nChildren With Autism Saw Their Learning and ...</td>\n",
              "      <td>Children With Autism Saw Their Learning and So...</td>\n",
              "      <td>children autism saw learning social skills boo...</td>\n",
              "      <td>[children, autism, saw, learning, social, skil...</td>\n",
              "      <td>1</td>\n",
              "      <td>n</td>\n",
              "      <td>-1</td>\n",
              "      <td>[[Thursday, February 27, 2020, DATE], [seven, ...</td>\n",
              "      <td>[Kiwi, Kiwi, Kiwi, Science Robotics, Kiwi, Kiw...</td>\n",
              "      <td>[Cancel]</td>\n",
              "      <td>[U.S., Matarić]</td>\n",
              "    </tr>\n",
              "    <tr>\n",
              "      <th>2</th>\n",
              "      <td>http://www.dataweek.co.za/12835r</td>\n",
              "      <td>2021-03-26</td>\n",
              "      <td>en</td>\n",
              "      <td>Forget ML, AI and Industry 4.0 – obsolescence ...</td>\n",
              "      <td>\\n\\nForget ML, AI and Industry 4.0 – obsolesce...</td>\n",
              "      <td>The world entered a new era of accelerated tra...</td>\n",
              "      <td>world entered new era accelerated transformati...</td>\n",
              "      <td>[world, entered, new, era, accelerated, transf...</td>\n",
              "      <td>0</td>\n",
              "      <td>p</td>\n",
              "      <td>1</td>\n",
              "      <td>[[the last eighteen months, DATE], [years, DAT...</td>\n",
              "      <td>[the Brazilian Embassy, PowerPoint, ML, AI, Ir...</td>\n",
              "      <td>[]</td>\n",
              "      <td>[London, Lego, Mexico, US]</td>\n",
              "    </tr>\n",
              "    <tr>\n",
              "      <th>3</th>\n",
              "      <td>http://www.homeoffice.consumerelectronicsnet.c...</td>\n",
              "      <td>2021-03-10</td>\n",
              "      <td>en</td>\n",
              "      <td>Strategy Analytics: 71% of Smartphones Sold Gl...</td>\n",
              "      <td>\\n\\nStrategy Analytics: 71% of Smartphones Sol...</td>\n",
              "      <td>AI is used in various functions inside smartph...</td>\n",
              "      <td>ai used various functions inside smartphones i...</td>\n",
              "      <td>[ai, used, various, functions, inside, smartph...</td>\n",
              "      <td>0</td>\n",
              "      <td>p</td>\n",
              "      <td>1</td>\n",
              "      <td>[[AI, ORG], [AI, ORG], [AI, ORG], [Edge AI, OR...</td>\n",
              "      <td>[AI, AI, AI, Edge AI, AI, AI, AI, AI, AI, AI, ...</td>\n",
              "      <td>[]</td>\n",
              "      <td>[]</td>\n",
              "    </tr>\n",
              "    <tr>\n",
              "      <th>4</th>\n",
              "      <td>http://www.itbusinessnet.com/2020/10/olympus-t...</td>\n",
              "      <td>2020-10-20</td>\n",
              "      <td>en</td>\n",
              "      <td>Olympus to Support Endoscopic AI Diagnosis Edu...</td>\n",
              "      <td>\\n\\nOlympus to Support Endoscopic AI Diagnosis...</td>\n",
              "      <td>In collaboration with CYBERNET SYSTEMS CO,. LT...</td>\n",
              "      <td>collaboration cybernet systems co ltd olympus ...</td>\n",
              "      <td>[collaboration, cybernet, systems, co, ltd, ol...</td>\n",
              "      <td>0</td>\n",
              "      <td>p</td>\n",
              "      <td>1</td>\n",
              "      <td>[[CYBERNET SYSTEMS CO, ORG], [Olympus, ORG], [...</td>\n",
              "      <td>[CYBERNET SYSTEMS CO, Olympus, AI, the Asian I...</td>\n",
              "      <td>[]</td>\n",
              "      <td>[Hyderabad, India, India, Japan, India, India,...</td>\n",
              "    </tr>\n",
              "  </tbody>\n",
              "</table>\n",
              "</div>"
            ],
            "text/plain": [
              "                                                 url       date language   \n",
              "0  http://en.people.cn/n3/2021/0318/c90000-983012... 2021-03-18       en  \\\n",
              "1  http://newsparliament.com/2020/02/27/children-... 2020-02-27       en   \n",
              "2                   http://www.dataweek.co.za/12835r 2021-03-26       en   \n",
              "3  http://www.homeoffice.consumerelectronicsnet.c... 2021-03-10       en   \n",
              "4  http://www.itbusinessnet.com/2020/10/olympus-t... 2020-10-20       en   \n",
              "\n",
              "                                               title   \n",
              "0  Artificial intelligence improves parking effic...  \\\n",
              "1  Children With Autism Saw Their Learning and So...   \n",
              "2  Forget ML, AI and Industry 4.0 – obsolescence ...   \n",
              "3  Strategy Analytics: 71% of Smartphones Sold Gl...   \n",
              "4  Olympus to Support Endoscopic AI Diagnosis Edu...   \n",
              "\n",
              "                                                text   \n",
              "0  \\n\\nArtificial intelligence improves parking e...  \\\n",
              "1  \\nChildren With Autism Saw Their Learning and ...   \n",
              "2  \\n\\nForget ML, AI and Industry 4.0 – obsolesce...   \n",
              "3  \\n\\nStrategy Analytics: 71% of Smartphones Sol...   \n",
              "4  \\n\\nOlympus to Support Endoscopic AI Diagnosis...   \n",
              "\n",
              "                                        cleaned_text   \n",
              "0  Some urban areas of the city started to use ET...  \\\n",
              "1  Children With Autism Saw Their Learning and So...   \n",
              "2  The world entered a new era of accelerated tra...   \n",
              "3  AI is used in various functions inside smartph...   \n",
              "4  In collaboration with CYBERNET SYSTEMS CO,. LT...   \n",
              "\n",
              "                                     important_words   \n",
              "0  urban areas city started use etc system roadsi...  \\\n",
              "1  children autism saw learning social skills boo...   \n",
              "2  world entered new era accelerated transformati...   \n",
              "3  ai used various functions inside smartphones i...   \n",
              "4  collaboration cybernet systems co ltd olympus ...   \n",
              "\n",
              "                                              tokens  topic   \n",
              "0  [urban, areas, city, started, use, etc, system...      0  \\\n",
              "1  [children, autism, saw, learning, social, skil...      1   \n",
              "2  [world, entered, new, era, accelerated, transf...      0   \n",
              "3  [ai, used, various, functions, inside, smartph...      0   \n",
              "4  [collaboration, cybernet, systems, co, ltd, ol...      0   \n",
              "\n",
              "  predicted_sentiment_yelp_new  sentiment_numeric   \n",
              "0                            p                  1  \\\n",
              "1                            n                 -1   \n",
              "2                            p                  1   \n",
              "3                            p                  1   \n",
              "4                            p                  1   \n",
              "\n",
              "                                            entities   \n",
              "0  [[ETC, ORG], [July 1, 2019, DATE], [ETC, ORG],...  \\\n",
              "1  [[Thursday, February 27, 2020, DATE], [seven, ...   \n",
              "2  [[the last eighteen months, DATE], [years, DAT...   \n",
              "3  [[AI, ORG], [AI, ORG], [AI, ORG], [Edge AI, OR...   \n",
              "4  [[CYBERNET SYSTEMS CO, ORG], [Olympus, ORG], [...   \n",
              "\n",
              "                                        organization  products   \n",
              "0  [ETC, ETC, AI, ETC, Wang, ETC, AIpark, AI, AI,...        []  \\\n",
              "1  [Kiwi, Kiwi, Kiwi, Science Robotics, Kiwi, Kiw...  [Cancel]   \n",
              "2  [the Brazilian Embassy, PowerPoint, ML, AI, Ir...        []   \n",
              "3  [AI, AI, AI, Edge AI, AI, AI, AI, AI, AI, AI, ...        []   \n",
              "4  [CYBERNET SYSTEMS CO, Olympus, AI, the Asian I...        []   \n",
              "\n",
              "                                                 GPE  \n",
              "0  [Chaoyang, Beijing, Beijing, Beijing, China, C...  \n",
              "1                                    [U.S., Matarić]  \n",
              "2                         [London, Lego, Mexico, US]  \n",
              "3                                                 []  \n",
              "4  [Hyderabad, India, India, Japan, India, India,...  "
            ]
          },
          "execution_count": 6,
          "metadata": {},
          "output_type": "execute_result"
        }
      ],
      "source": [
        "df = pd.read_parquet('entity_nlp.parquet')\n",
        "df.head()"
      ]
    },
    {
      "cell_type": "code",
      "execution_count": null,
      "id": "32690382",
      "metadata": {
        "id": "32690382",
        "outputId": "639bbbd9-e2bd-459a-fb08-1451bc758eae"
      },
      "outputs": [
        {
          "name": "stdout",
          "output_type": "stream",
          "text": [
            "<class 'pandas.core.frame.DataFrame'>\n",
            "Index: 136927 entries, 0 to 200331\n",
            "Data columns (total 15 columns):\n",
            " #   Column                        Non-Null Count   Dtype         \n",
            "---  ------                        --------------   -----         \n",
            " 0   url                           136927 non-null  object        \n",
            " 1   date                          136927 non-null  datetime64[ns]\n",
            " 2   language                      136927 non-null  object        \n",
            " 3   title                         136927 non-null  object        \n",
            " 4   text                          136927 non-null  object        \n",
            " 5   cleaned_text                  136927 non-null  object        \n",
            " 6   important_words               136927 non-null  object        \n",
            " 7   tokens                        136927 non-null  object        \n",
            " 8   topic                         136927 non-null  int64         \n",
            " 9   predicted_sentiment_yelp_new  136927 non-null  object        \n",
            " 10  sentiment_numeric             136927 non-null  int64         \n",
            " 11  entities                      136927 non-null  object        \n",
            " 12  organization                  136927 non-null  object        \n",
            " 13  products                      136927 non-null  object        \n",
            " 14  GPE                           136927 non-null  object        \n",
            "dtypes: datetime64[ns](1), int64(2), object(12)\n",
            "memory usage: 16.7+ MB\n"
          ]
        }
      ],
      "source": [
        "df.info()"
      ]
    },
    {
      "cell_type": "code",
      "execution_count": null,
      "id": "499d926c",
      "metadata": {
        "id": "499d926c",
        "outputId": "c1f22b86-5e10-4ead-e835-92ba4f601002"
      },
      "outputs": [
        {
          "data": {
            "text/plain": [
              "pandas.core.series.Series"
            ]
          },
          "execution_count": 8,
          "metadata": {},
          "output_type": "execute_result"
        }
      ],
      "source": [
        "type(df['entities'])"
      ]
    },
    {
      "cell_type": "code",
      "execution_count": null,
      "id": "985bb6f2",
      "metadata": {
        "id": "985bb6f2"
      },
      "outputs": [],
      "source": [
        "df['entities'] = df['entities'].astype(str)"
      ]
    },
    {
      "cell_type": "code",
      "execution_count": null,
      "id": "bda31036",
      "metadata": {
        "id": "bda31036"
      },
      "outputs": [],
      "source": [
        "p_df = df[df['predicted_sentiment_yelp_new'] == 'p']\n",
        "n_df = df[df['predicted_sentiment_yelp_new'] == 'n']"
      ]
    },
    {
      "cell_type": "code",
      "execution_count": null,
      "id": "a3ec1ff2",
      "metadata": {
        "id": "a3ec1ff2",
        "outputId": "0f89c026-ff22-4e50-abc4-d88bad990302"
      },
      "outputs": [
        {
          "data": {
            "text/html": [
              "<div>\n",
              "<style scoped>\n",
              "    .dataframe tbody tr th:only-of-type {\n",
              "        vertical-align: middle;\n",
              "    }\n",
              "\n",
              "    .dataframe tbody tr th {\n",
              "        vertical-align: top;\n",
              "    }\n",
              "\n",
              "    .dataframe thead th {\n",
              "        text-align: right;\n",
              "    }\n",
              "</style>\n",
              "<table border=\"1\" class=\"dataframe\">\n",
              "  <thead>\n",
              "    <tr style=\"text-align: right;\">\n",
              "      <th></th>\n",
              "      <th>url</th>\n",
              "      <th>date</th>\n",
              "      <th>language</th>\n",
              "      <th>title</th>\n",
              "      <th>text</th>\n",
              "      <th>cleaned_text</th>\n",
              "      <th>important_words</th>\n",
              "      <th>tokens</th>\n",
              "      <th>topic</th>\n",
              "      <th>predicted_sentiment_yelp_new</th>\n",
              "      <th>sentiment_numeric</th>\n",
              "      <th>entities</th>\n",
              "      <th>organization</th>\n",
              "      <th>products</th>\n",
              "      <th>GPE</th>\n",
              "    </tr>\n",
              "  </thead>\n",
              "  <tbody>\n",
              "    <tr>\n",
              "      <th>88</th>\n",
              "      <td>https://finance.yahoo.com/news/sensorium-lead-...</td>\n",
              "      <td>2023-02-02</td>\n",
              "      <td>en</td>\n",
              "      <td>Sensorium to Lead Conversation on AI Virtual B...</td>\n",
              "      <td>Sensorium to Lead Conversation on AI Virtual B...</td>\n",
              "      <td>\"It's fantastic to have the opportunity to lea...</td>\n",
              "      <td>fantastic opportunity lead conversation ai aid...</td>\n",
              "      <td>[fantastic, opportunity, lead, conversation, a...</td>\n",
              "      <td>0</td>\n",
              "      <td>p</td>\n",
              "      <td>1</td>\n",
              "      <td>[array(['AI', 'ORG'], dtype=object) array(['LE...</td>\n",
              "      <td>[AI, LEAP, Sojitz, Meta, MicroVision, MicroVis...</td>\n",
              "      <td>[]</td>\n",
              "      <td>[Germany, China]</td>\n",
              "    </tr>\n",
              "    <tr>\n",
              "      <th>92</th>\n",
              "      <td>https://fossbytes.com/chatgpt-ai-google-code-red/</td>\n",
              "      <td>2022-12-22</td>\n",
              "      <td>en</td>\n",
              "      <td>\"Code Red\": ChatGPT AI Scares Google Into Acti...</td>\n",
              "      <td>\\n\\n\"Code Red\": ChatGPT AI Scares Google Into ...</td>\n",
              "      <td>Priye Rai December 22, 2022 Tweet Share WhatsA...</td>\n",
              "      <td>priye rai december 22 2022 tweet share whatsap...</td>\n",
              "      <td>[priye, rai, december, 22, 2022, tweet, share,...</td>\n",
              "      <td>1</td>\n",
              "      <td>p</td>\n",
              "      <td>1</td>\n",
              "      <td>[array(['Rai December 22', 'DATE'], dtype=obje...</td>\n",
              "      <td>[AI, AI, Google, The New York Times, Google, A...</td>\n",
              "      <td>[]</td>\n",
              "      <td>[Fossbytes, Us]</td>\n",
              "    </tr>\n",
              "    <tr>\n",
              "      <th>313</th>\n",
              "      <td>https://www.binance.com/en/news/flash/7393767</td>\n",
              "      <td>2023-02-23</td>\n",
              "      <td>en</td>\n",
              "      <td>Best 5 Ways ChatGPT Can Help Blockchain Develo...</td>\n",
              "      <td>\\n\\nBest 5 Ways ChatGPT Can Help Blockchain De...</td>\n",
              "      <td>We do not endorse their accuracy. Digital asse...</td>\n",
              "      <td>endorse accuracy digital asset prices volatile...</td>\n",
              "      <td>[endorse, accuracy, digital, asset, prices, vo...</td>\n",
              "      <td>0</td>\n",
              "      <td>p</td>\n",
              "      <td>1</td>\n",
              "      <td>[array(['CoinGape', 'ORG'], dtype=object)\\n ar...</td>\n",
              "      <td>[CoinGape, ChatGPT, ResearchChatGPT, creationC...</td>\n",
              "      <td>[]</td>\n",
              "      <td>[Blockchain]</td>\n",
              "    </tr>\n",
              "    <tr>\n",
              "      <th>325</th>\n",
              "      <td>https://www.breakinglatest.news/business/lectu...</td>\n",
              "      <td>2023-02-14</td>\n",
              "      <td>en</td>\n",
              "      <td>Lecture appointment丨Six authoritative experts ...</td>\n",
              "      <td>\\nLecture appointment丨Six authoritative expert...</td>\n",
              "      <td>Lecture appointment丨Six authoritative experts ...</td>\n",
              "      <td>lecture appointment丨six authoritative experts ...</td>\n",
              "      <td>[lecture, appointment丨six, authoritative, expe...</td>\n",
              "      <td>0</td>\n",
              "      <td>p</td>\n",
              "      <td>1</td>\n",
              "      <td>[array(['AI', 'ORG'], dtype=object)\\n array(['...</td>\n",
              "      <td>[AI, Latest News Home Business Entertainment H...</td>\n",
              "      <td>[BuzzFeed]</td>\n",
              "      <td>[US, Berkeley, California, Tianlang, China, th...</td>\n",
              "    </tr>\n",
              "    <tr>\n",
              "      <th>386</th>\n",
              "      <td>https://www.dailymail.co.uk/travel/article-119...</td>\n",
              "      <td>2023-04-05</td>\n",
              "      <td>en</td>\n",
              "      <td>We asked ChatGPT and Google's Bard to plan a v...</td>\n",
              "      <td>We asked ChatGPT and Google's Bard to plan a v...</td>\n",
              "      <td>Tour from Istanbul to London across 22 countri...</td>\n",
              "      <td>tour istanbul london across 22 countries 56 da...</td>\n",
              "      <td>[tour, istanbul, london, across, 22, countries...</td>\n",
              "      <td>1</td>\n",
              "      <td>p</td>\n",
              "      <td>1</td>\n",
              "      <td>[array(['Istanbul', 'GPE'], dtype=object)\\n ar...</td>\n",
              "      <td>[Showtime, MailOnline Travel, Google, Bard, Ba...</td>\n",
              "      <td>[Kilimanjaro, Shard]</td>\n",
              "      <td>[Istanbul, London, Lapland, Amsterdam, Paris, ...</td>\n",
              "    </tr>\n",
              "  </tbody>\n",
              "</table>\n",
              "</div>"
            ],
            "text/plain": [
              "                                                   url       date language   \n",
              "88   https://finance.yahoo.com/news/sensorium-lead-... 2023-02-02       en  \\\n",
              "92   https://fossbytes.com/chatgpt-ai-google-code-red/ 2022-12-22       en   \n",
              "313      https://www.binance.com/en/news/flash/7393767 2023-02-23       en   \n",
              "325  https://www.breakinglatest.news/business/lectu... 2023-02-14       en   \n",
              "386  https://www.dailymail.co.uk/travel/article-119... 2023-04-05       en   \n",
              "\n",
              "                                                 title   \n",
              "88   Sensorium to Lead Conversation on AI Virtual B...  \\\n",
              "92   \"Code Red\": ChatGPT AI Scares Google Into Acti...   \n",
              "313  Best 5 Ways ChatGPT Can Help Blockchain Develo...   \n",
              "325  Lecture appointment丨Six authoritative experts ...   \n",
              "386  We asked ChatGPT and Google's Bard to plan a v...   \n",
              "\n",
              "                                                  text   \n",
              "88   Sensorium to Lead Conversation on AI Virtual B...  \\\n",
              "92   \\n\\n\"Code Red\": ChatGPT AI Scares Google Into ...   \n",
              "313  \\n\\nBest 5 Ways ChatGPT Can Help Blockchain De...   \n",
              "325  \\nLecture appointment丨Six authoritative expert...   \n",
              "386  We asked ChatGPT and Google's Bard to plan a v...   \n",
              "\n",
              "                                          cleaned_text   \n",
              "88   \"It's fantastic to have the opportunity to lea...  \\\n",
              "92   Priye Rai December 22, 2022 Tweet Share WhatsA...   \n",
              "313  We do not endorse their accuracy. Digital asse...   \n",
              "325  Lecture appointment丨Six authoritative experts ...   \n",
              "386  Tour from Istanbul to London across 22 countri...   \n",
              "\n",
              "                                       important_words   \n",
              "88   fantastic opportunity lead conversation ai aid...  \\\n",
              "92   priye rai december 22 2022 tweet share whatsap...   \n",
              "313  endorse accuracy digital asset prices volatile...   \n",
              "325  lecture appointment丨six authoritative experts ...   \n",
              "386  tour istanbul london across 22 countries 56 da...   \n",
              "\n",
              "                                                tokens  topic   \n",
              "88   [fantastic, opportunity, lead, conversation, a...      0  \\\n",
              "92   [priye, rai, december, 22, 2022, tweet, share,...      1   \n",
              "313  [endorse, accuracy, digital, asset, prices, vo...      0   \n",
              "325  [lecture, appointment丨six, authoritative, expe...      0   \n",
              "386  [tour, istanbul, london, across, 22, countries...      1   \n",
              "\n",
              "    predicted_sentiment_yelp_new  sentiment_numeric   \n",
              "88                             p                  1  \\\n",
              "92                             p                  1   \n",
              "313                            p                  1   \n",
              "325                            p                  1   \n",
              "386                            p                  1   \n",
              "\n",
              "                                              entities   \n",
              "88   [array(['AI', 'ORG'], dtype=object) array(['LE...  \\\n",
              "92   [array(['Rai December 22', 'DATE'], dtype=obje...   \n",
              "313  [array(['CoinGape', 'ORG'], dtype=object)\\n ar...   \n",
              "325  [array(['AI', 'ORG'], dtype=object)\\n array(['...   \n",
              "386  [array(['Istanbul', 'GPE'], dtype=object)\\n ar...   \n",
              "\n",
              "                                          organization              products   \n",
              "88   [AI, LEAP, Sojitz, Meta, MicroVision, MicroVis...                    []  \\\n",
              "92   [AI, AI, Google, The New York Times, Google, A...                    []   \n",
              "313  [CoinGape, ChatGPT, ResearchChatGPT, creationC...                    []   \n",
              "325  [AI, Latest News Home Business Entertainment H...            [BuzzFeed]   \n",
              "386  [Showtime, MailOnline Travel, Google, Bard, Ba...  [Kilimanjaro, Shard]   \n",
              "\n",
              "                                                   GPE  \n",
              "88                                    [Germany, China]  \n",
              "92                                     [Fossbytes, Us]  \n",
              "313                                       [Blockchain]  \n",
              "325  [US, Berkeley, California, Tianlang, China, th...  \n",
              "386  [Istanbul, London, Lapland, Amsterdam, Paris, ...  "
            ]
          },
          "execution_count": 11,
          "metadata": {},
          "output_type": "execute_result"
        }
      ],
      "source": [
        "summarize_pos_df = p_df[p_df['entities'].str.contains('ChatGPT')]\n",
        "summarize_pos_df.head()"
      ]
    },
    {
      "cell_type": "code",
      "execution_count": null,
      "id": "07243e44",
      "metadata": {
        "id": "07243e44",
        "outputId": "ae8f5c1e-154c-4023-c012-7836ad3a42d7"
      },
      "outputs": [
        {
          "data": {
            "text/plain": [
              "88        \"It's fantastic to have the opportunity to lea...\n",
              "92        Priye Rai December 22, 2022 Tweet Share WhatsA...\n",
              "313       We do not endorse their accuracy. Digital asse...\n",
              "325       Lecture appointment丨Six authoritative experts ...\n",
              "386       Tour from Istanbul to London across 22 countri...\n",
              "                                ...                        \n",
              "199815    Codie.ai, first consultative AI assistant base...\n",
              "199866    ChatGPT is one of the latest additions to the ...\n",
              "199981    This story about AI was written by a human: Ho...\n",
              "200142    We may be compensated by vendors who appear on...\n",
              "200158    As a woman who's been single but dating for al...\n",
              "Name: cleaned_text, Length: 1778, dtype: object"
            ]
          },
          "execution_count": 12,
          "metadata": {},
          "output_type": "execute_result"
        }
      ],
      "source": [
        "summarize_pos_df['cleaned_text']"
      ]
    },
    {
      "cell_type": "code",
      "execution_count": null,
      "id": "44d22766",
      "metadata": {
        "id": "44d22766",
        "outputId": "5cd29340-5735-41e4-be65-531d0ab2a373"
      },
      "outputs": [
        {
          "data": {
            "text/plain": [
              "'[\\'\"It\\\\\\'s fantastic to have the opportunity to lead the conversation on AI and AI-driven virtual beings at a stage like LEAP, which has become a global window into the state of emerging technology and the most exciting advancements the industry is experiencing. Over the last year, we\\\\\\'ve continued the development of our pioneering AI-driven avatars and have released groundbreaking metaver'"
            ]
          },
          "execution_count": 13,
          "metadata": {},
          "output_type": "execute_result"
        }
      ],
      "source": [
        "pos_text = str(summarize_pos_df['cleaned_text'].tolist())\n",
        "pos_text[:390]"
      ]
    },
    {
      "cell_type": "code",
      "execution_count": null,
      "id": "f38da81c",
      "metadata": {
        "id": "f38da81c",
        "outputId": "3f5530ab-b86e-438a-f910-26491328fc99"
      },
      "outputs": [
        {
          "data": {
            "text/plain": [
              "str"
            ]
          },
          "execution_count": 14,
          "metadata": {},
          "output_type": "execute_result"
        }
      ],
      "source": [
        "type(pos_text)"
      ]
    },
    {
      "cell_type": "code",
      "execution_count": null,
      "id": "ac397e4b",
      "metadata": {
        "id": "ac397e4b"
      },
      "outputs": [],
      "source": [
        "from summarizer import Summarizer"
      ]
    },
    {
      "cell_type": "code",
      "execution_count": null,
      "id": "614db5ce",
      "metadata": {
        "id": "614db5ce",
        "outputId": "5de51788-fc79-43a3-e29b-51e622ee8865"
      },
      "outputs": [
        {
          "data": {
            "text/plain": [
              "str"
            ]
          },
          "execution_count": 17,
          "metadata": {},
          "output_type": "execute_result"
        }
      ],
      "source": [
        "type(pos_text[:390])"
      ]
    },
    {
      "cell_type": "code",
      "execution_count": null,
      "id": "82ca700d",
      "metadata": {
        "id": "82ca700d",
        "outputId": "aeef678f-9d63-435b-bd29-ec6dde9a15ec"
      },
      "outputs": [
        {
          "name": "stderr",
          "output_type": "stream",
          "text": [
            "Some weights of the model checkpoint at bert-large-uncased were not used when initializing BertModel: ['cls.predictions.decoder.weight', 'cls.predictions.transform.LayerNorm.weight', 'cls.predictions.transform.LayerNorm.bias', 'cls.predictions.bias', 'cls.seq_relationship.bias', 'cls.predictions.transform.dense.weight', 'cls.seq_relationship.weight', 'cls.predictions.transform.dense.bias']\n",
            "- This IS expected if you are initializing BertModel from the checkpoint of a model trained on another task or with another architecture (e.g. initializing a BertForSequenceClassification model from a BertForPreTraining model).\n",
            "- This IS NOT expected if you are initializing BertModel from the checkpoint of a model that you expect to be exactly identical (initializing a BertForSequenceClassification model from a BertForSequenceClassification model).\n"
          ]
        }
      ],
      "source": [
        "model = Summarizer()"
      ]
    },
    {
      "cell_type": "code",
      "execution_count": null,
      "id": "54cd816f",
      "metadata": {
        "id": "54cd816f",
        "outputId": "fe01a925-2574-448a-e5bc-0f0e20b6092c"
      },
      "outputs": [
        {
          "data": {
            "text/plain": [
              "'[\\'\"It\\\\\\'s fantastic to have the opportunity to lead the conversation on AI and AI-driven virtual beings at a stage like LEAP, which has become a global window into the state of emerging technology and the most exciting advancements the industry is experiencing.'"
            ]
          },
          "execution_count": 19,
          "metadata": {},
          "output_type": "execute_result"
        }
      ],
      "source": [
        "result = model(pos_text[:300], ratio=0.1)  # Specified with ratio\n",
        "result"
      ]
    },
    {
      "cell_type": "markdown",
      "id": "e26e271d",
      "metadata": {
        "id": "e26e271d"
      },
      "source": [
        "#### exciting advancements the industry is experiencing."
      ]
    },
    {
      "cell_type": "code",
      "execution_count": null,
      "id": "c3b91f70",
      "metadata": {
        "id": "c3b91f70",
        "outputId": "be419473-9a0e-4182-91ea-b2328b484239"
      },
      "outputs": [
        {
          "name": "stderr",
          "output_type": "stream",
          "text": [
            "/var/folders/1q/cr3dj0m115vf89fcxv59dk7r0000gn/T/ipykernel_6262/1090423295.py:1: UserWarning: Boolean Series key will be reindexed to match DataFrame index.\n",
            "  filtered_df = summarize_pos_df[summarize_pos_df['cleaned_text'].str.contains('ChatGPT') & df['cleaned_text'].str.contains('exciting adv')]\n"
          ]
        },
        {
          "data": {
            "text/html": [
              "<div>\n",
              "<style scoped>\n",
              "    .dataframe tbody tr th:only-of-type {\n",
              "        vertical-align: middle;\n",
              "    }\n",
              "\n",
              "    .dataframe tbody tr th {\n",
              "        vertical-align: top;\n",
              "    }\n",
              "\n",
              "    .dataframe thead th {\n",
              "        text-align: right;\n",
              "    }\n",
              "</style>\n",
              "<table border=\"1\" class=\"dataframe\">\n",
              "  <thead>\n",
              "    <tr style=\"text-align: right;\">\n",
              "      <th></th>\n",
              "      <th>url</th>\n",
              "      <th>date</th>\n",
              "      <th>language</th>\n",
              "      <th>title</th>\n",
              "      <th>text</th>\n",
              "      <th>cleaned_text</th>\n",
              "      <th>important_words</th>\n",
              "      <th>tokens</th>\n",
              "      <th>topic</th>\n",
              "      <th>predicted_sentiment_yelp_new</th>\n",
              "      <th>sentiment_numeric</th>\n",
              "      <th>entities</th>\n",
              "      <th>organization</th>\n",
              "      <th>products</th>\n",
              "      <th>GPE</th>\n",
              "    </tr>\n",
              "  </thead>\n",
              "  <tbody>\n",
              "    <tr>\n",
              "      <th>88</th>\n",
              "      <td>https://finance.yahoo.com/news/sensorium-lead-...</td>\n",
              "      <td>2023-02-02</td>\n",
              "      <td>en</td>\n",
              "      <td>Sensorium to Lead Conversation on AI Virtual B...</td>\n",
              "      <td>Sensorium to Lead Conversation on AI Virtual B...</td>\n",
              "      <td>\"It's fantastic to have the opportunity to lea...</td>\n",
              "      <td>fantastic opportunity lead conversation ai aid...</td>\n",
              "      <td>[fantastic, opportunity, lead, conversation, a...</td>\n",
              "      <td>0</td>\n",
              "      <td>p</td>\n",
              "      <td>1</td>\n",
              "      <td>[array(['AI', 'ORG'], dtype=object) array(['LE...</td>\n",
              "      <td>[AI, LEAP, Sojitz, Meta, MicroVision, MicroVis...</td>\n",
              "      <td>[]</td>\n",
              "      <td>[Germany, China]</td>\n",
              "    </tr>\n",
              "  </tbody>\n",
              "</table>\n",
              "</div>"
            ],
            "text/plain": [
              "                                                  url       date language   \n",
              "88  https://finance.yahoo.com/news/sensorium-lead-... 2023-02-02       en  \\\n",
              "\n",
              "                                                title   \n",
              "88  Sensorium to Lead Conversation on AI Virtual B...  \\\n",
              "\n",
              "                                                 text   \n",
              "88  Sensorium to Lead Conversation on AI Virtual B...  \\\n",
              "\n",
              "                                         cleaned_text   \n",
              "88  \"It's fantastic to have the opportunity to lea...  \\\n",
              "\n",
              "                                      important_words   \n",
              "88  fantastic opportunity lead conversation ai aid...  \\\n",
              "\n",
              "                                               tokens  topic   \n",
              "88  [fantastic, opportunity, lead, conversation, a...      0  \\\n",
              "\n",
              "   predicted_sentiment_yelp_new  sentiment_numeric   \n",
              "88                            p                  1  \\\n",
              "\n",
              "                                             entities   \n",
              "88  [array(['AI', 'ORG'], dtype=object) array(['LE...  \\\n",
              "\n",
              "                                         organization products   \n",
              "88  [AI, LEAP, Sojitz, Meta, MicroVision, MicroVis...       []  \\\n",
              "\n",
              "                 GPE  \n",
              "88  [Germany, China]  "
            ]
          },
          "execution_count": 20,
          "metadata": {},
          "output_type": "execute_result"
        }
      ],
      "source": [
        "filtered_df = summarize_pos_df[summarize_pos_df['cleaned_text'].str.contains('ChatGPT') & df['cleaned_text'].str.contains('exciting adv')]\n",
        "filtered_df"
      ]
    },
    {
      "cell_type": "code",
      "execution_count": null,
      "id": "12032ca7",
      "metadata": {
        "id": "12032ca7",
        "outputId": "53c7cac6-4f85-470d-c5f0-8c78c448dc7c"
      },
      "outputs": [
        {
          "name": "stdout",
          "output_type": "stream",
          "text": [
            "https://finance.yahoo.com/news/sensorium-lead-conversation-ai-virtual-110000531.html\n"
          ]
        }
      ],
      "source": [
        "x = filtered_df.iloc[0]['url']\n",
        "print(x)"
      ]
    },
    {
      "cell_type": "markdown",
      "id": "f9f00246",
      "metadata": {
        "id": "f9f00246"
      },
      "source": [
        "#### Finanace Yahoo Domain\n",
        "\n",
        "#### Title\n",
        "Sensorium to Lead Conversation on AI Virtual Beings at LEAP 2023\n",
        "\n",
        "#### Text\n",
        "It's fantastic to have the opportunity to lead the conversation on AI and AI-driven virtual beings at a stage like LEAP, which has become a global window into the state of emerging technology and the most exciting advancements the industry is experiencing"
      ]
    },
    {
      "cell_type": "code",
      "execution_count": null,
      "id": "13ebea72",
      "metadata": {
        "id": "13ebea72",
        "outputId": "8b2c33c3-c3dc-4fb8-a4bd-f24ed58dc0a0"
      },
      "outputs": [
        {
          "data": {
            "text/plain": [
              "9429703"
            ]
          },
          "execution_count": 22,
          "metadata": {},
          "output_type": "execute_result"
        }
      ],
      "source": [
        "len(pos_text)"
      ]
    },
    {
      "cell_type": "code",
      "execution_count": null,
      "id": "0578d033",
      "metadata": {
        "id": "0578d033",
        "outputId": "095c8f43-5d12-48c4-fcf4-d7ffa941e594"
      },
      "outputs": [
        {
          "data": {
            "text/plain": [
              "\"ChatGPT gave me made me seem more mature, charitable, and hospitable. I still received a good amount of likes based on my photos, so were my pictures so good that men didn\\\\'t even care what I wrote?']\""
            ]
          },
          "execution_count": 23,
          "metadata": {},
          "output_type": "execute_result"
        }
      ],
      "source": [
        "sliced_text = pos_text[9429503:]\n",
        "sliced_text"
      ]
    },
    {
      "cell_type": "code",
      "execution_count": null,
      "id": "2a94b214",
      "metadata": {
        "id": "2a94b214",
        "outputId": "b6950f45-5d75-47a4-950d-83518efc306d"
      },
      "outputs": [
        {
          "name": "stderr",
          "output_type": "stream",
          "text": [
            "Some weights of the model checkpoint at bert-large-uncased were not used when initializing BertModel: ['cls.predictions.decoder.weight', 'cls.predictions.transform.LayerNorm.weight', 'cls.predictions.transform.LayerNorm.bias', 'cls.predictions.bias', 'cls.seq_relationship.bias', 'cls.predictions.transform.dense.weight', 'cls.seq_relationship.weight', 'cls.predictions.transform.dense.bias']\n",
            "- This IS expected if you are initializing BertModel from the checkpoint of a model trained on another task or with another architecture (e.g. initializing a BertForSequenceClassification model from a BertForPreTraining model).\n",
            "- This IS NOT expected if you are initializing BertModel from the checkpoint of a model that you expect to be exactly identical (initializing a BertForSequenceClassification model from a BertForSequenceClassification model).\n"
          ]
        },
        {
          "name": "stdout",
          "output_type": "stream",
          "text": [
            "of likes based on my photos, so were my pictures so good that men didn\\'t even care what I wrote?']\n"
          ]
        }
      ],
      "source": [
        "summarizer = Summarizer()\n",
        "summary = summarizer( pos_text[9429603:])\n",
        "print(summary)"
      ]
    },
    {
      "cell_type": "code",
      "execution_count": null,
      "id": "2b3aebe6",
      "metadata": {
        "id": "2b3aebe6",
        "outputId": "edf7de3f-0da4-468b-e2f3-f687e6f506fe"
      },
      "outputs": [
        {
          "data": {
            "text/html": [
              "<div>\n",
              "<style scoped>\n",
              "    .dataframe tbody tr th:only-of-type {\n",
              "        vertical-align: middle;\n",
              "    }\n",
              "\n",
              "    .dataframe tbody tr th {\n",
              "        vertical-align: top;\n",
              "    }\n",
              "\n",
              "    .dataframe thead th {\n",
              "        text-align: right;\n",
              "    }\n",
              "</style>\n",
              "<table border=\"1\" class=\"dataframe\">\n",
              "  <thead>\n",
              "    <tr style=\"text-align: right;\">\n",
              "      <th></th>\n",
              "      <th>url</th>\n",
              "      <th>date</th>\n",
              "      <th>language</th>\n",
              "      <th>title</th>\n",
              "      <th>text</th>\n",
              "      <th>cleaned_text</th>\n",
              "      <th>important_words</th>\n",
              "      <th>tokens</th>\n",
              "      <th>topic</th>\n",
              "      <th>predicted_sentiment_yelp_new</th>\n",
              "      <th>sentiment_numeric</th>\n",
              "      <th>entities</th>\n",
              "      <th>organization</th>\n",
              "      <th>products</th>\n",
              "      <th>GPE</th>\n",
              "    </tr>\n",
              "  </thead>\n",
              "  <tbody>\n",
              "    <tr>\n",
              "      <th>48</th>\n",
              "      <td>https://centralpointnews.com/recent-chatgpt-an...</td>\n",
              "      <td>2023-04-06</td>\n",
              "      <td>en</td>\n",
              "      <td>Recent ChatGPT And Bard Predicament Raises Tho...</td>\n",
              "      <td>\\nRecent ChatGPT And Bard Predicament Raises T...</td>\n",
              "      <td>Maybe that’s true, possibly not. One point tha...</td>\n",
              "      <td>maybe thats true possibly one point cognize ju...</td>\n",
              "      <td>[maybe, thats, true, possibly, one, point, cog...</td>\n",
              "      <td>1</td>\n",
              "      <td>n</td>\n",
              "      <td>-1</td>\n",
              "      <td>[array(['One', 'CARDINAL'], dtype=object)\\n ar...</td>\n",
              "      <td>[Artificial Intelligence, AI, AI apps arsenic,...</td>\n",
              "      <td>[]</td>\n",
              "      <td>[U.S., OpenAI, OpenAI, OpenAI, OpenAI, OpenAI,...</td>\n",
              "    </tr>\n",
              "    <tr>\n",
              "      <th>232</th>\n",
              "      <td>https://techstory.in/chatgpt-marks-elon-narend...</td>\n",
              "      <td>2023-02-20</td>\n",
              "      <td>en</td>\n",
              "      <td>ChatGPT marks Elon &amp; Narendra Modi as a 'contr...</td>\n",
              "      <td>\\n\\nChatGPT marks Elon &amp; Narendra Modi as a 'c...</td>\n",
              "      <td>ChatGPT marks Elon &amp; Narendra Modi as a 'contr...</td>\n",
              "      <td>chatgpt marks elon narendra modi controversial...</td>\n",
              "      <td>[chatgpt, marks, elon, narendra, modi, controv...</td>\n",
              "      <td>1</td>\n",
              "      <td>n</td>\n",
              "      <td>-1</td>\n",
              "      <td>[array(['ChatGPT marks Elon &amp; Narendra Modi', ...</td>\n",
              "      <td>[ChatGPT marks Elon &amp; Narendra Modi, Issac Lat...</td>\n",
              "      <td>[Twitter, NewsTech Binance]</td>\n",
              "      <td>[Washington, U.S., Russia, the United Kingdom,...</td>\n",
              "    </tr>\n",
              "    <tr>\n",
              "      <th>269</th>\n",
              "      <td>https://vestaviavoice.com/news/student-or-bot-...</td>\n",
              "      <td>2023-03-01</td>\n",
              "      <td>en</td>\n",
              "      <td>Student or bot? ChatGPT, other tools leading t...</td>\n",
              "      <td>\\n\\n\\nStudent or bot? ChatGPT, other tools lea...</td>\n",
              "      <td>ChatGPT, other tools leading to new conversati...</td>\n",
              "      <td>chatgpt tools leading new conversations vestav...</td>\n",
              "      <td>[chatgpt, tools, leading, new, conversations, ...</td>\n",
              "      <td>1</td>\n",
              "      <td>n</td>\n",
              "      <td>-1</td>\n",
              "      <td>[array(['ChatGPT', 'ORG'], dtype=object)\\n arr...</td>\n",
              "      <td>[ChatGPT, NEAL, ChatGPT, the Vestavia Voice, G...</td>\n",
              "      <td>[]</td>\n",
              "      <td>[Vestavia Hills City Schools, OpenAI, OpenAI, ...</td>\n",
              "    </tr>\n",
              "    <tr>\n",
              "      <th>270</th>\n",
              "      <td>https://voonze.com/petey-the-new-chatgpt-app-f...</td>\n",
              "      <td>2023-03-19</td>\n",
              "      <td>en</td>\n",
              "      <td>Petey: The new ChatGPT App for Apple Watch. - ...</td>\n",
              "      <td>\\nPetey: The new ChatGPT App for Apple Watch....</td>\n",
              "      <td>Petey: The new ChatGPT App for Apple Watch. - ...</td>\n",
              "      <td>petey new chatgpt app apple watch smart techno...</td>\n",
              "      <td>[petey, new, chatgpt, app, apple, watch, smart...</td>\n",
              "      <td>1</td>\n",
              "      <td>n</td>\n",
              "      <td>-1</td>\n",
              "      <td>[array(['App', 'PERSON'], dtype=object)\\n arra...</td>\n",
              "      <td>[Apple Watch, Tech News How, Social Networks S...</td>\n",
              "      <td>[]</td>\n",
              "      <td>[OpenAI, OpenAI, OpenAI, OpenAI]</td>\n",
              "    </tr>\n",
              "    <tr>\n",
              "      <th>338</th>\n",
              "      <td>https://www.businessinsider.com/elon-musk-bill...</td>\n",
              "      <td>2023-02-26</td>\n",
              "      <td>en</td>\n",
              "      <td>What Musk, Gates, Other Business Leaders Think...</td>\n",
              "      <td>\\n\\nWhat Musk, Gates, Other Business Leaders T...</td>\n",
              "      <td>What Musk, Gates, Other Business Leaders Think...</td>\n",
              "      <td>musk gates business leaders think chatgpt ai j...</td>\n",
              "      <td>[musk, gates, business, leaders, think, chatgp...</td>\n",
              "      <td>1</td>\n",
              "      <td>n</td>\n",
              "      <td>-1</td>\n",
              "      <td>[array(['Musk', 'PERSON'], dtype=object)\\n arr...</td>\n",
              "      <td>[Gates, AI Jump to Main, Chevron, Chevron, AI,...</td>\n",
              "      <td>[Email, Twitter, DeepMind]</td>\n",
              "      <td>[OpenAI, Alphabet, Alphabet, Dubai, OpenAI, Op...</td>\n",
              "    </tr>\n",
              "  </tbody>\n",
              "</table>\n",
              "</div>"
            ],
            "text/plain": [
              "                                                   url       date language   \n",
              "48   https://centralpointnews.com/recent-chatgpt-an... 2023-04-06       en  \\\n",
              "232  https://techstory.in/chatgpt-marks-elon-narend... 2023-02-20       en   \n",
              "269  https://vestaviavoice.com/news/student-or-bot-... 2023-03-01       en   \n",
              "270  https://voonze.com/petey-the-new-chatgpt-app-f... 2023-03-19       en   \n",
              "338  https://www.businessinsider.com/elon-musk-bill... 2023-02-26       en   \n",
              "\n",
              "                                                 title   \n",
              "48   Recent ChatGPT And Bard Predicament Raises Tho...  \\\n",
              "232  ChatGPT marks Elon & Narendra Modi as a 'contr...   \n",
              "269  Student or bot? ChatGPT, other tools leading t...   \n",
              "270  Petey: The new ChatGPT App for Apple Watch. - ...   \n",
              "338  What Musk, Gates, Other Business Leaders Think...   \n",
              "\n",
              "                                                  text   \n",
              "48   \\nRecent ChatGPT And Bard Predicament Raises T...  \\\n",
              "232  \\n\\nChatGPT marks Elon & Narendra Modi as a 'c...   \n",
              "269  \\n\\n\\nStudent or bot? ChatGPT, other tools lea...   \n",
              "270   \\nPetey: The new ChatGPT App for Apple Watch....   \n",
              "338  \\n\\nWhat Musk, Gates, Other Business Leaders T...   \n",
              "\n",
              "                                          cleaned_text   \n",
              "48   Maybe that’s true, possibly not. One point tha...  \\\n",
              "232  ChatGPT marks Elon & Narendra Modi as a 'contr...   \n",
              "269  ChatGPT, other tools leading to new conversati...   \n",
              "270  Petey: The new ChatGPT App for Apple Watch. - ...   \n",
              "338  What Musk, Gates, Other Business Leaders Think...   \n",
              "\n",
              "                                       important_words   \n",
              "48   maybe thats true possibly one point cognize ju...  \\\n",
              "232  chatgpt marks elon narendra modi controversial...   \n",
              "269  chatgpt tools leading new conversations vestav...   \n",
              "270  petey new chatgpt app apple watch smart techno...   \n",
              "338  musk gates business leaders think chatgpt ai j...   \n",
              "\n",
              "                                                tokens  topic   \n",
              "48   [maybe, thats, true, possibly, one, point, cog...      1  \\\n",
              "232  [chatgpt, marks, elon, narendra, modi, controv...      1   \n",
              "269  [chatgpt, tools, leading, new, conversations, ...      1   \n",
              "270  [petey, new, chatgpt, app, apple, watch, smart...      1   \n",
              "338  [musk, gates, business, leaders, think, chatgp...      1   \n",
              "\n",
              "    predicted_sentiment_yelp_new  sentiment_numeric   \n",
              "48                             n                 -1  \\\n",
              "232                            n                 -1   \n",
              "269                            n                 -1   \n",
              "270                            n                 -1   \n",
              "338                            n                 -1   \n",
              "\n",
              "                                              entities   \n",
              "48   [array(['One', 'CARDINAL'], dtype=object)\\n ar...  \\\n",
              "232  [array(['ChatGPT marks Elon & Narendra Modi', ...   \n",
              "269  [array(['ChatGPT', 'ORG'], dtype=object)\\n arr...   \n",
              "270  [array(['App', 'PERSON'], dtype=object)\\n arra...   \n",
              "338  [array(['Musk', 'PERSON'], dtype=object)\\n arr...   \n",
              "\n",
              "                                          organization   \n",
              "48   [Artificial Intelligence, AI, AI apps arsenic,...  \\\n",
              "232  [ChatGPT marks Elon & Narendra Modi, Issac Lat...   \n",
              "269  [ChatGPT, NEAL, ChatGPT, the Vestavia Voice, G...   \n",
              "270  [Apple Watch, Tech News How, Social Networks S...   \n",
              "338  [Gates, AI Jump to Main, Chevron, Chevron, AI,...   \n",
              "\n",
              "                        products   \n",
              "48                            []  \\\n",
              "232  [Twitter, NewsTech Binance]   \n",
              "269                           []   \n",
              "270                           []   \n",
              "338   [Email, Twitter, DeepMind]   \n",
              "\n",
              "                                                   GPE  \n",
              "48   [U.S., OpenAI, OpenAI, OpenAI, OpenAI, OpenAI,...  \n",
              "232  [Washington, U.S., Russia, the United Kingdom,...  \n",
              "269  [Vestavia Hills City Schools, OpenAI, OpenAI, ...  \n",
              "270                   [OpenAI, OpenAI, OpenAI, OpenAI]  \n",
              "338  [OpenAI, Alphabet, Alphabet, Dubai, OpenAI, Op...  "
            ]
          },
          "execution_count": 30,
          "metadata": {},
          "output_type": "execute_result"
        }
      ],
      "source": [
        "summarize_neg_df = n_df[n_df['entities'].str.contains('ChatGPT')]\n",
        "summarize_neg_df.head()"
      ]
    },
    {
      "cell_type": "code",
      "execution_count": null,
      "id": "1fc4a82c",
      "metadata": {
        "id": "1fc4a82c",
        "outputId": "b625433c-fee1-43c9-de01-d1847ce28c3c"
      },
      "outputs": [
        {
          "data": {
            "text/plain": [
              "'[\"Maybe that’s true, possibly not. One point that we cognize for judge is that location is simply a benignant of conflict aliases warfare taking spot among nan various Artificial Intelligence (AI) makers that are hurriedly and desperately aiming to bring their generative AI apps into nan marketplace'"
            ]
          },
          "execution_count": 33,
          "metadata": {},
          "output_type": "execute_result"
        }
      ],
      "source": [
        "neg_text = str(summarize_neg_df['cleaned_text'].tolist())\n",
        "neg_text[:300]"
      ]
    },
    {
      "cell_type": "code",
      "execution_count": null,
      "id": "4faed941",
      "metadata": {
        "id": "4faed941",
        "outputId": "bab2aaa6-e24a-4950-c91d-5b06aafe62e4"
      },
      "outputs": [
        {
          "data": {
            "text/plain": [
              "8379639"
            ]
          },
          "execution_count": 34,
          "metadata": {},
          "output_type": "execute_result"
        }
      ],
      "source": [
        "len(neg_text)"
      ]
    },
    {
      "cell_type": "code",
      "execution_count": null,
      "id": "91b900c0",
      "metadata": {
        "id": "91b900c0",
        "outputId": "4f880902-747b-40c9-8c2d-849bb46d4b74"
      },
      "outputs": [
        {
          "data": {
            "text/plain": [
              "'One point that we cognize for judge is that location is simply a benignant of conflict aliases warfare taking spot among nan various Artificial Intelligence (AI) makers that are hurriedly and desperately aiming to bring their generative AI apps into nan marketplace'"
            ]
          },
          "execution_count": 35,
          "metadata": {},
          "output_type": "execute_result"
        }
      ],
      "source": [
        "result = model(neg_text[:300], ratio=0.1)  # Specified with ratio\n",
        "result"
      ]
    },
    {
      "cell_type": "markdown",
      "id": "46d1398c",
      "metadata": {
        "id": "46d1398c"
      },
      "source": [
        "#### hurriedly and desperately aiming to bring their generative AI apps into nan marketplace"
      ]
    },
    {
      "cell_type": "code",
      "execution_count": null,
      "id": "d3290974",
      "metadata": {
        "id": "d3290974",
        "outputId": "6084fef4-b38b-4657-9631-3635598ab4f0"
      },
      "outputs": [
        {
          "name": "stderr",
          "output_type": "stream",
          "text": [
            "/var/folders/1q/cr3dj0m115vf89fcxv59dk7r0000gn/T/ipykernel_6262/158262284.py:1: UserWarning: Boolean Series key will be reindexed to match DataFrame index.\n",
            "  filtered_df = summarize_neg_df[summarize_neg_df['cleaned_text'].str.contains('ChatGPT') & df['cleaned_text'].str.contains('hurriedly and desperately')]\n"
          ]
        },
        {
          "data": {
            "text/html": [
              "<div>\n",
              "<style scoped>\n",
              "    .dataframe tbody tr th:only-of-type {\n",
              "        vertical-align: middle;\n",
              "    }\n",
              "\n",
              "    .dataframe tbody tr th {\n",
              "        vertical-align: top;\n",
              "    }\n",
              "\n",
              "    .dataframe thead th {\n",
              "        text-align: right;\n",
              "    }\n",
              "</style>\n",
              "<table border=\"1\" class=\"dataframe\">\n",
              "  <thead>\n",
              "    <tr style=\"text-align: right;\">\n",
              "      <th></th>\n",
              "      <th>url</th>\n",
              "      <th>date</th>\n",
              "      <th>language</th>\n",
              "      <th>title</th>\n",
              "      <th>text</th>\n",
              "      <th>cleaned_text</th>\n",
              "      <th>important_words</th>\n",
              "      <th>tokens</th>\n",
              "      <th>topic</th>\n",
              "      <th>predicted_sentiment_yelp_new</th>\n",
              "      <th>sentiment_numeric</th>\n",
              "      <th>entities</th>\n",
              "      <th>organization</th>\n",
              "      <th>products</th>\n",
              "      <th>GPE</th>\n",
              "    </tr>\n",
              "  </thead>\n",
              "  <tbody>\n",
              "    <tr>\n",
              "      <th>48</th>\n",
              "      <td>https://centralpointnews.com/recent-chatgpt-an...</td>\n",
              "      <td>2023-04-06</td>\n",
              "      <td>en</td>\n",
              "      <td>Recent ChatGPT And Bard Predicament Raises Tho...</td>\n",
              "      <td>\\nRecent ChatGPT And Bard Predicament Raises T...</td>\n",
              "      <td>Maybe that’s true, possibly not. One point tha...</td>\n",
              "      <td>maybe thats true possibly one point cognize ju...</td>\n",
              "      <td>[maybe, thats, true, possibly, one, point, cog...</td>\n",
              "      <td>1</td>\n",
              "      <td>n</td>\n",
              "      <td>-1</td>\n",
              "      <td>[array(['One', 'CARDINAL'], dtype=object)\\n ar...</td>\n",
              "      <td>[Artificial Intelligence, AI, AI apps arsenic,...</td>\n",
              "      <td>[]</td>\n",
              "      <td>[U.S., OpenAI, OpenAI, OpenAI, OpenAI, OpenAI,...</td>\n",
              "    </tr>\n",
              "  </tbody>\n",
              "</table>\n",
              "</div>"
            ],
            "text/plain": [
              "                                                  url       date language   \n",
              "48  https://centralpointnews.com/recent-chatgpt-an... 2023-04-06       en  \\\n",
              "\n",
              "                                                title   \n",
              "48  Recent ChatGPT And Bard Predicament Raises Tho...  \\\n",
              "\n",
              "                                                 text   \n",
              "48  \\nRecent ChatGPT And Bard Predicament Raises T...  \\\n",
              "\n",
              "                                         cleaned_text   \n",
              "48  Maybe that’s true, possibly not. One point tha...  \\\n",
              "\n",
              "                                      important_words   \n",
              "48  maybe thats true possibly one point cognize ju...  \\\n",
              "\n",
              "                                               tokens  topic   \n",
              "48  [maybe, thats, true, possibly, one, point, cog...      1  \\\n",
              "\n",
              "   predicted_sentiment_yelp_new  sentiment_numeric   \n",
              "48                            n                 -1  \\\n",
              "\n",
              "                                             entities   \n",
              "48  [array(['One', 'CARDINAL'], dtype=object)\\n ar...  \\\n",
              "\n",
              "                                         organization products   \n",
              "48  [Artificial Intelligence, AI, AI apps arsenic,...       []  \\\n",
              "\n",
              "                                                  GPE  \n",
              "48  [U.S., OpenAI, OpenAI, OpenAI, OpenAI, OpenAI,...  "
            ]
          },
          "execution_count": 36,
          "metadata": {},
          "output_type": "execute_result"
        }
      ],
      "source": [
        "filtered_df = summarize_neg_df[summarize_neg_df['cleaned_text'].str.contains('ChatGPT') & df['cleaned_text'].str.contains('hurriedly and desperately')]\n",
        "filtered_df"
      ]
    },
    {
      "cell_type": "code",
      "execution_count": null,
      "id": "b32b9156",
      "metadata": {
        "id": "b32b9156",
        "outputId": "12604840-7e59-409a-8ef1-d2cee8262160"
      },
      "outputs": [
        {
          "name": "stdout",
          "output_type": "stream",
          "text": [
            "https://centralpointnews.com/recent-chatgpt-and-bard-predicament-raises-thorny-questions-about-whether-using-one-ai-to-train-a-competing-ai-can-be-fair-and-square-says-ai-ethics-and-ai-law-199681.html\n"
          ]
        }
      ],
      "source": [
        "x = filtered_df.iloc[0]['url']\n",
        "print(x)"
      ]
    },
    {
      "cell_type": "markdown",
      "id": "4ad3f6ee",
      "metadata": {
        "id": "4ad3f6ee"
      },
      "source": [
        "#### Central Point News\n",
        "\n",
        "#### Title:\n",
        "Recent ChatGPT And Bard Predicament Raises Thorny Questions About Whether Using One AI To Train A Competing AI Can Be Fair And Square, Says AI Ethics And AI Law | CENTRALPOINTNEWS\n",
        "\n",
        "#### Text:\n",
        "\"One point that we cognize for judge is that location is simply a benignant of conflict aliases warfare taking spot among nan various Artificial Intelligence (AI) makers that are hurriedly and desperately aiming to bring their generative AI apps into nan marketplace.\""
      ]
    },
    {
      "cell_type": "code",
      "execution_count": null,
      "id": "e32db6f2",
      "metadata": {
        "id": "e32db6f2",
        "outputId": "727d1d73-8739-47c7-a593-6d0743d8ed22"
      },
      "outputs": [
        {
          "data": {
            "text/html": [
              "<div>\n",
              "<style scoped>\n",
              "    .dataframe tbody tr th:only-of-type {\n",
              "        vertical-align: middle;\n",
              "    }\n",
              "\n",
              "    .dataframe tbody tr th {\n",
              "        vertical-align: top;\n",
              "    }\n",
              "\n",
              "    .dataframe thead th {\n",
              "        text-align: right;\n",
              "    }\n",
              "</style>\n",
              "<table border=\"1\" class=\"dataframe\">\n",
              "  <thead>\n",
              "    <tr style=\"text-align: right;\">\n",
              "      <th></th>\n",
              "      <th>url</th>\n",
              "      <th>date</th>\n",
              "      <th>language</th>\n",
              "      <th>title</th>\n",
              "      <th>text</th>\n",
              "      <th>cleaned_text</th>\n",
              "      <th>important_words</th>\n",
              "      <th>tokens</th>\n",
              "      <th>topic</th>\n",
              "      <th>predicted_sentiment_yelp_new</th>\n",
              "      <th>sentiment_numeric</th>\n",
              "      <th>entities</th>\n",
              "      <th>organization</th>\n",
              "      <th>products</th>\n",
              "      <th>GPE</th>\n",
              "    </tr>\n",
              "  </thead>\n",
              "  <tbody>\n",
              "    <tr>\n",
              "      <th>182</th>\n",
              "      <td>https://newslanes.com/2022/12/23/dubai-hosts-a...</td>\n",
              "      <td>2022-12-23</td>\n",
              "      <td>en</td>\n",
              "      <td>Dubai Hosts A Regional Convening On Artificial...</td>\n",
              "      <td>\\nDubai Hosts A Regional Convening On Artifici...</td>\n",
              "      <td>Held at the Jameel Arts Centre in Dubai, the c...</td>\n",
              "      <td>held jameel arts centre dubai conference atten...</td>\n",
              "      <td>[held, jameel, arts, centre, dubai, conference...</td>\n",
              "      <td>0</td>\n",
              "      <td>p</td>\n",
              "      <td>1</td>\n",
              "      <td>[array(['the Jameel Arts Centre', 'FAC'], dtyp...</td>\n",
              "      <td>[the Jameel Clinic’s, COVID-19, Community Jame...</td>\n",
              "      <td>[]</td>\n",
              "      <td>[Dubai, Dubai, Saudi Arabia]</td>\n",
              "    </tr>\n",
              "    <tr>\n",
              "      <th>200</th>\n",
              "      <td>https://primefeed.in/news/5479798/artificial-i...</td>\n",
              "      <td>2021-01-19</td>\n",
              "      <td>en</td>\n",
              "      <td>Artificial Intelligence (AI) Chipset Market St...</td>\n",
              "      <td>\\n\\nArtificial Intelligence (AI) Chipset Marke...</td>\n",
              "      <td>AI chipsets see greater opportunities in the a...</td>\n",
              "      <td>ai chipsets see greater opportunities automoti...</td>\n",
              "      <td>[ai, chipsets, see, greater, opportunities, au...</td>\n",
              "      <td>9</td>\n",
              "      <td>p</td>\n",
              "      <td>1</td>\n",
              "      <td>[array(['AI', 'ORG'], dtype=object) array(['AI...</td>\n",
              "      <td>[AI, AI, BFSI, healthcare &amp; pharmaceuticals, A...</td>\n",
              "      <td>[]</td>\n",
              "      <td>[US, US, US, US, China, South Korea, US, US, S...</td>\n",
              "    </tr>\n",
              "    <tr>\n",
              "      <th>309</th>\n",
              "      <td>https://www.benzinga.com/markets/cannabis/21/0...</td>\n",
              "      <td>2021-04-19</td>\n",
              "      <td>en</td>\n",
              "      <td>Launching A New Avenue For CBD Farming On 4/20...</td>\n",
              "      <td>\\n\\nLaunching A New Avenue For CBD Farming On ...</td>\n",
              "      <td>The near-infinite applications of blockchain t...</td>\n",
              "      <td>nearinfinite applications blockchain technolog...</td>\n",
              "      <td>[nearinfinite, applications, blockchain, techn...</td>\n",
              "      <td>0</td>\n",
              "      <td>p</td>\n",
              "      <td>1</td>\n",
              "      <td>[array(['DeFi', 'ORG'], dtype=object)\\n array(...</td>\n",
              "      <td>[DeFi, DeFi, DeFi, healthcare, Expanding Oppor...</td>\n",
              "      <td>[]</td>\n",
              "      <td>[Pixabay]</td>\n",
              "    </tr>\n",
              "    <tr>\n",
              "      <th>478</th>\n",
              "      <td>https://www.globenewswire.com/news-release/202...</td>\n",
              "      <td>2020-06-22</td>\n",
              "      <td>en</td>\n",
              "      <td>La Sierra University to Deploy OMNIQ’s Artific...</td>\n",
              "      <td>\\nLa Sierra University to Deploy OMNIQ’s Artif...</td>\n",
              "      <td>Based on OMNIQ’s AI-Machine Vision technology,...</td>\n",
              "      <td>based omniqs aimachine vision technology percs...</td>\n",
              "      <td>[based, omniqs, aimachine, vision, technology,...</td>\n",
              "      <td>1</td>\n",
              "      <td>p</td>\n",
              "      <td>1</td>\n",
              "      <td>[array(['OMNIQ', 'ORG'], dtype=object)\\n array...</td>\n",
              "      <td>[OMNIQ, AI-Machine Vision, PERCS, La Sierra Un...</td>\n",
              "      <td>[Fortune 500]</td>\n",
              "      <td>[USA]</td>\n",
              "    </tr>\n",
              "    <tr>\n",
              "      <th>481</th>\n",
              "      <td>https://www.globenewswire.com/news-release/202...</td>\n",
              "      <td>2022-11-22</td>\n",
              "      <td>en</td>\n",
              "      <td>Global Audio AI Recognition Market to Surpass ...</td>\n",
              "      <td>\\nGlobal Audio AI Recognition Market to Surpas...</td>\n",
              "      <td>November 22, 2022 06:30 ET | : AstuteAnalytica...</td>\n",
              "      <td>november 22 2022 0630 et astuteanalytica india...</td>\n",
              "      <td>[november, 22, 2022, 0630, et, astuteanalytica...</td>\n",
              "      <td>0</td>\n",
              "      <td>p</td>\n",
              "      <td>1</td>\n",
              "      <td>[array(['November 22, 2022', 'DATE'], dtype=ob...</td>\n",
              "      <td>[AstuteAnalytica India Pvt, GLOBE NEWSWIRE, AI...</td>\n",
              "      <td>[]</td>\n",
              "      <td>[Noida, INDIA, New Delhi, Nuance, Nuance, Nuan...</td>\n",
              "    </tr>\n",
              "  </tbody>\n",
              "</table>\n",
              "</div>"
            ],
            "text/plain": [
              "                                                   url       date language   \n",
              "182  https://newslanes.com/2022/12/23/dubai-hosts-a... 2022-12-23       en  \\\n",
              "200  https://primefeed.in/news/5479798/artificial-i... 2021-01-19       en   \n",
              "309  https://www.benzinga.com/markets/cannabis/21/0... 2021-04-19       en   \n",
              "478  https://www.globenewswire.com/news-release/202... 2020-06-22       en   \n",
              "481  https://www.globenewswire.com/news-release/202... 2022-11-22       en   \n",
              "\n",
              "                                                 title   \n",
              "182  Dubai Hosts A Regional Convening On Artificial...  \\\n",
              "200  Artificial Intelligence (AI) Chipset Market St...   \n",
              "309  Launching A New Avenue For CBD Farming On 4/20...   \n",
              "478  La Sierra University to Deploy OMNIQ’s Artific...   \n",
              "481  Global Audio AI Recognition Market to Surpass ...   \n",
              "\n",
              "                                                  text   \n",
              "182  \\nDubai Hosts A Regional Convening On Artifici...  \\\n",
              "200  \\n\\nArtificial Intelligence (AI) Chipset Marke...   \n",
              "309  \\n\\nLaunching A New Avenue For CBD Farming On ...   \n",
              "478  \\nLa Sierra University to Deploy OMNIQ’s Artif...   \n",
              "481  \\nGlobal Audio AI Recognition Market to Surpas...   \n",
              "\n",
              "                                          cleaned_text   \n",
              "182  Held at the Jameel Arts Centre in Dubai, the c...  \\\n",
              "200  AI chipsets see greater opportunities in the a...   \n",
              "309  The near-infinite applications of blockchain t...   \n",
              "478  Based on OMNIQ’s AI-Machine Vision technology,...   \n",
              "481  November 22, 2022 06:30 ET | : AstuteAnalytica...   \n",
              "\n",
              "                                       important_words   \n",
              "182  held jameel arts centre dubai conference atten...  \\\n",
              "200  ai chipsets see greater opportunities automoti...   \n",
              "309  nearinfinite applications blockchain technolog...   \n",
              "478  based omniqs aimachine vision technology percs...   \n",
              "481  november 22 2022 0630 et astuteanalytica india...   \n",
              "\n",
              "                                                tokens  topic   \n",
              "182  [held, jameel, arts, centre, dubai, conference...      0  \\\n",
              "200  [ai, chipsets, see, greater, opportunities, au...      9   \n",
              "309  [nearinfinite, applications, blockchain, techn...      0   \n",
              "478  [based, omniqs, aimachine, vision, technology,...      1   \n",
              "481  [november, 22, 2022, 0630, et, astuteanalytica...      0   \n",
              "\n",
              "    predicted_sentiment_yelp_new  sentiment_numeric   \n",
              "182                            p                  1  \\\n",
              "200                            p                  1   \n",
              "309                            p                  1   \n",
              "478                            p                  1   \n",
              "481                            p                  1   \n",
              "\n",
              "                                              entities   \n",
              "182  [array(['the Jameel Arts Centre', 'FAC'], dtyp...  \\\n",
              "200  [array(['AI', 'ORG'], dtype=object) array(['AI...   \n",
              "309  [array(['DeFi', 'ORG'], dtype=object)\\n array(...   \n",
              "478  [array(['OMNIQ', 'ORG'], dtype=object)\\n array...   \n",
              "481  [array(['November 22, 2022', 'DATE'], dtype=ob...   \n",
              "\n",
              "                                          organization       products   \n",
              "182  [the Jameel Clinic’s, COVID-19, Community Jame...             []  \\\n",
              "200  [AI, AI, BFSI, healthcare & pharmaceuticals, A...             []   \n",
              "309  [DeFi, DeFi, DeFi, healthcare, Expanding Oppor...             []   \n",
              "478  [OMNIQ, AI-Machine Vision, PERCS, La Sierra Un...  [Fortune 500]   \n",
              "481  [AstuteAnalytica India Pvt, GLOBE NEWSWIRE, AI...             []   \n",
              "\n",
              "                                                   GPE  \n",
              "182                       [Dubai, Dubai, Saudi Arabia]  \n",
              "200  [US, US, US, US, China, South Korea, US, US, S...  \n",
              "309                                          [Pixabay]  \n",
              "478                                              [USA]  \n",
              "481  [Noida, INDIA, New Delhi, Nuance, Nuance, Nuan...  "
            ]
          },
          "execution_count": 38,
          "metadata": {},
          "output_type": "execute_result"
        }
      ],
      "source": [
        "summarize_pos_df = p_df[p_df['entities'].str.contains('health')]\n",
        "summarize_pos_df.head()"
      ]
    },
    {
      "cell_type": "code",
      "execution_count": null,
      "id": "8ab87e8c",
      "metadata": {
        "id": "8ab87e8c",
        "outputId": "1bdddb97-a93b-4635-ce41-564f0134713d"
      },
      "outputs": [
        {
          "data": {
            "text/plain": [
              "182       Held at the Jameel Arts Centre in Dubai, the c...\n",
              "200       AI chipsets see greater opportunities in the a...\n",
              "309       The near-infinite applications of blockchain t...\n",
              "478       Based on OMNIQ’s AI-Machine Vision technology,...\n",
              "481       November 22, 2022 06:30 ET | : AstuteAnalytica...\n",
              "                                ...                        \n",
              "199623    Abu Dhabi’s Thriving Artificial Intelligence S...\n",
              "199626    Spotify Introduces an AI DJ for Mobile Devices...\n",
              "199843    The integration follows Babylon's recent acqui...\n",
              "200152    The AI Awards 2.0 is an initiative open to all...\n",
              "200249    HCA, others use Franklin startup’s AI for canc...\n",
              "Name: cleaned_text, Length: 1156, dtype: object"
            ]
          },
          "execution_count": 39,
          "metadata": {},
          "output_type": "execute_result"
        }
      ],
      "source": [
        "summarize_pos_df['cleaned_text']"
      ]
    },
    {
      "cell_type": "code",
      "execution_count": null,
      "id": "123fb42a",
      "metadata": {
        "id": "123fb42a",
        "outputId": "b30f354e-0b0c-4d8b-9bc0-2991339b549d"
      },
      "outputs": [
        {
          "data": {
            "text/plain": [
              "\"['Held at the Jameel Arts Centre in Dubai, the conference was attended by H.E. Omar Sultan Al Olama, UAE Minister for Artificial Intelligence, Digital Economy and Remote Work Applications. The conference marks the first international venture of ‘AI Cures’, the Jameel Clinic’s platform for collaboration that launched in the early months of the COVID-19 pandemic. Fady Jameel, vice chairman\""
            ]
          },
          "execution_count": 40,
          "metadata": {},
          "output_type": "execute_result"
        }
      ],
      "source": [
        "pos_text = str(summarize_pos_df['cleaned_text'].tolist())\n",
        "pos_text[:390]"
      ]
    },
    {
      "cell_type": "code",
      "execution_count": null,
      "id": "8f50fd76",
      "metadata": {
        "id": "8f50fd76",
        "outputId": "d6681ba9-6d10-4d38-e796-6505dabac06c"
      },
      "outputs": [
        {
          "data": {
            "text/plain": [
              "str"
            ]
          },
          "execution_count": 41,
          "metadata": {},
          "output_type": "execute_result"
        }
      ],
      "source": [
        "type(pos_text)"
      ]
    },
    {
      "cell_type": "code",
      "execution_count": null,
      "id": "25e2efe9",
      "metadata": {
        "id": "25e2efe9"
      },
      "outputs": [],
      "source": [
        "from summarizer import Summarizer"
      ]
    },
    {
      "cell_type": "code",
      "execution_count": null,
      "id": "a92a2659",
      "metadata": {
        "id": "a92a2659",
        "outputId": "77162be5-14ea-4797-caad-379d3680317e"
      },
      "outputs": [
        {
          "name": "stderr",
          "output_type": "stream",
          "text": [
            "Some weights of the model checkpoint at bert-large-uncased were not used when initializing BertModel: ['cls.predictions.decoder.weight', 'cls.predictions.transform.LayerNorm.weight', 'cls.predictions.transform.LayerNorm.bias', 'cls.predictions.bias', 'cls.seq_relationship.bias', 'cls.predictions.transform.dense.weight', 'cls.seq_relationship.weight', 'cls.predictions.transform.dense.bias']\n",
            "- This IS expected if you are initializing BertModel from the checkpoint of a model trained on another task or with another architecture (e.g. initializing a BertForSequenceClassification model from a BertForPreTraining model).\n",
            "- This IS NOT expected if you are initializing BertModel from the checkpoint of a model that you expect to be exactly identical (initializing a BertForSequenceClassification model from a BertForSequenceClassification model).\n"
          ]
        }
      ],
      "source": [
        "model = Summarizer()"
      ]
    },
    {
      "cell_type": "code",
      "execution_count": null,
      "id": "3761f765",
      "metadata": {
        "id": "3761f765",
        "outputId": "d831a376-ed3f-46fa-e9c7-b6c2c92d5b4a"
      },
      "outputs": [
        {
          "data": {
            "text/plain": [
              "\"['Held at the Jameel Arts Centre in Dubai, the conference was attended by H.E. Omar Sultan Al Olama, UAE Minister for Artificial Intelligence, Digital Economy and Remote Work Applications.\""
            ]
          },
          "execution_count": 49,
          "metadata": {},
          "output_type": "execute_result"
        }
      ],
      "source": [
        "result = model(pos_text[:200], ratio=0.1)  # Specified with ratio\n",
        "result"
      ]
    },
    {
      "cell_type": "code",
      "execution_count": null,
      "id": "c89b74b4",
      "metadata": {
        "id": "c89b74b4",
        "outputId": "95c7013f-aee3-46aa-f4a0-600fd8393d74"
      },
      "outputs": [
        {
          "data": {
            "text/html": [
              "<div>\n",
              "<style scoped>\n",
              "    .dataframe tbody tr th:only-of-type {\n",
              "        vertical-align: middle;\n",
              "    }\n",
              "\n",
              "    .dataframe tbody tr th {\n",
              "        vertical-align: top;\n",
              "    }\n",
              "\n",
              "    .dataframe thead th {\n",
              "        text-align: right;\n",
              "    }\n",
              "</style>\n",
              "<table border=\"1\" class=\"dataframe\">\n",
              "  <thead>\n",
              "    <tr style=\"text-align: right;\">\n",
              "      <th></th>\n",
              "      <th>url</th>\n",
              "      <th>date</th>\n",
              "      <th>language</th>\n",
              "      <th>title</th>\n",
              "      <th>text</th>\n",
              "      <th>cleaned_text</th>\n",
              "      <th>important_words</th>\n",
              "      <th>tokens</th>\n",
              "      <th>topic</th>\n",
              "      <th>predicted_sentiment_yelp_new</th>\n",
              "      <th>sentiment_numeric</th>\n",
              "      <th>entities</th>\n",
              "      <th>organization</th>\n",
              "      <th>products</th>\n",
              "      <th>GPE</th>\n",
              "    </tr>\n",
              "  </thead>\n",
              "  <tbody>\n",
              "    <tr>\n",
              "      <th>324</th>\n",
              "      <td>https://www.bovnews.com/companies/could-genera...</td>\n",
              "      <td>2022-03-07</td>\n",
              "      <td>en</td>\n",
              "      <td>Could generate strong returns? Devon Energy Co...</td>\n",
              "      <td>\\n\\nCould generate strong returns? Devon Energ...</td>\n",
              "      <td>Devon Energy Corporation (DVN), Guardforce AI ...</td>\n",
              "      <td>devon energy corporation dvn guardforce ai co ...</td>\n",
              "      <td>[devon, energy, corporation, dvn, guardforce, ...</td>\n",
              "      <td>5</td>\n",
              "      <td>p</td>\n",
              "      <td>1</td>\n",
              "      <td>[array(['Devon Energy Corporation', 'ORG'], dt...</td>\n",
              "      <td>[Devon Energy Corporation, Guardforce AI Co. L...</td>\n",
              "      <td>[]</td>\n",
              "      <td>[]</td>\n",
              "    </tr>\n",
              "    <tr>\n",
              "      <th>1333</th>\n",
              "      <td>https://www.bovnews.com/2022/02/12/great-prote...</td>\n",
              "      <td>2022-02-13</td>\n",
              "      <td>en</td>\n",
              "      <td>Great Protection In An Uncertain Environment: ...</td>\n",
              "      <td>\\n\\nGreat Protection In An Uncertain Environme...</td>\n",
              "      <td>Great Protection In An Uncertain Environment: ...</td>\n",
              "      <td>great protection uncertain environment guardfo...</td>\n",
              "      <td>[great, protection, uncertain, environment, gu...</td>\n",
              "      <td>5</td>\n",
              "      <td>p</td>\n",
              "      <td>1</td>\n",
              "      <td>[array(['Guardforce AI Co. Limited', 'ORG'], d...</td>\n",
              "      <td>[Guardforce AI Co. Limited, CinCor Pharma Inc....</td>\n",
              "      <td>[]</td>\n",
              "      <td>[]</td>\n",
              "    </tr>\n",
              "    <tr>\n",
              "      <th>1381</th>\n",
              "      <td>https://www.crn.com.au/news/kinetic-its-ai-sav...</td>\n",
              "      <td>2022-03-31</td>\n",
              "      <td>en</td>\n",
              "      <td>Kinetic IT’s AI saves Qantas 200 hours a month...</td>\n",
              "      <td>\\n\\nKinetic IT’s AI saves Qantas 200 hours a m...</td>\n",
              "      <td>The MSP said its AWS-based ‘Automated Virtual ...</td>\n",
              "      <td>msp said awsbased automated virtual agent ava ...</td>\n",
              "      <td>[msp, said, awsbased, automated, virtual, agen...</td>\n",
              "      <td>0</td>\n",
              "      <td>p</td>\n",
              "      <td>1</td>\n",
              "      <td>[array(['MSP', 'ORG'], dtype=object) array(['A...</td>\n",
              "      <td>[MSP, AWS, AVA, Qantas, AVA, AVA, AVA, Qantas,...</td>\n",
              "      <td>[]</td>\n",
              "      <td>[Perth]</td>\n",
              "    </tr>\n",
              "    <tr>\n",
              "      <th>2271</th>\n",
              "      <td>https://thriveglobal.com/stories/hani-zeini-ex...</td>\n",
              "      <td>2021-01-08</td>\n",
              "      <td>en</td>\n",
              "      <td>Hani Zeini explains how Artificial Intelligenc...</td>\n",
              "      <td>\\nHani Zeini explains how Artificial Intellige...</td>\n",
              "      <td>Hani Zeini explains how Artificial Intelligenc...</td>\n",
              "      <td>hani zeini explains artificial intelligence st...</td>\n",
              "      <td>[hani, zeini, explains, artificial, intelligen...</td>\n",
              "      <td>0</td>\n",
              "      <td>p</td>\n",
              "      <td>1</td>\n",
              "      <td>[array(['Hani Zeini', 'PERSON'], dtype=object)...</td>\n",
              "      <td>[Artificial Intelligence, The Thrive Global Co...</td>\n",
              "      <td>[JavaScript]</td>\n",
              "      <td>[]</td>\n",
              "    </tr>\n",
              "    <tr>\n",
              "      <th>2301</th>\n",
              "      <td>https://www.13abc.com/prnewswire/2022/05/17/ar...</td>\n",
              "      <td>2022-05-17</td>\n",
              "      <td>en</td>\n",
              "      <td>Argo AI Begins Driverless Vehicle Operations i...</td>\n",
              "      <td>Argo AI Begins Driverless Vehicle Operations i...</td>\n",
              "      <td>FoodBest Of ClassLatest NewscastsCircle - Coun...</td>\n",
              "      <td>foodbest classlatest newscastscircle country m...</td>\n",
              "      <td>[foodbest, classlatest, newscastscircle, count...</td>\n",
              "      <td>7</td>\n",
              "      <td>p</td>\n",
              "      <td>1</td>\n",
              "      <td>[array(['ReleasesArgo AI Begins Driverless Veh...</td>\n",
              "      <td>[ReleasesArgo AI Begins Driverless Vehicle Ope...</td>\n",
              "      <td>[]</td>\n",
              "      <td>[Miami, Austin, Washington, D.C., Miami Beach,...</td>\n",
              "    </tr>\n",
              "  </tbody>\n",
              "</table>\n",
              "</div>"
            ],
            "text/plain": [
              "                                                    url       date language   \n",
              "324   https://www.bovnews.com/companies/could-genera... 2022-03-07       en  \\\n",
              "1333  https://www.bovnews.com/2022/02/12/great-prote... 2022-02-13       en   \n",
              "1381  https://www.crn.com.au/news/kinetic-its-ai-sav... 2022-03-31       en   \n",
              "2271  https://thriveglobal.com/stories/hani-zeini-ex... 2021-01-08       en   \n",
              "2301  https://www.13abc.com/prnewswire/2022/05/17/ar... 2022-05-17       en   \n",
              "\n",
              "                                                  title   \n",
              "324   Could generate strong returns? Devon Energy Co...  \\\n",
              "1333  Great Protection In An Uncertain Environment: ...   \n",
              "1381  Kinetic IT’s AI saves Qantas 200 hours a month...   \n",
              "2271  Hani Zeini explains how Artificial Intelligenc...   \n",
              "2301  Argo AI Begins Driverless Vehicle Operations i...   \n",
              "\n",
              "                                                   text   \n",
              "324   \\n\\nCould generate strong returns? Devon Energ...  \\\n",
              "1333  \\n\\nGreat Protection In An Uncertain Environme...   \n",
              "1381  \\n\\nKinetic IT’s AI saves Qantas 200 hours a m...   \n",
              "2271  \\nHani Zeini explains how Artificial Intellige...   \n",
              "2301  Argo AI Begins Driverless Vehicle Operations i...   \n",
              "\n",
              "                                           cleaned_text   \n",
              "324   Devon Energy Corporation (DVN), Guardforce AI ...  \\\n",
              "1333  Great Protection In An Uncertain Environment: ...   \n",
              "1381  The MSP said its AWS-based ‘Automated Virtual ...   \n",
              "2271  Hani Zeini explains how Artificial Intelligenc...   \n",
              "2301  FoodBest Of ClassLatest NewscastsCircle - Coun...   \n",
              "\n",
              "                                        important_words   \n",
              "324   devon energy corporation dvn guardforce ai co ...  \\\n",
              "1333  great protection uncertain environment guardfo...   \n",
              "1381  msp said awsbased automated virtual agent ava ...   \n",
              "2271  hani zeini explains artificial intelligence st...   \n",
              "2301  foodbest classlatest newscastscircle country m...   \n",
              "\n",
              "                                                 tokens  topic   \n",
              "324   [devon, energy, corporation, dvn, guardforce, ...      5  \\\n",
              "1333  [great, protection, uncertain, environment, gu...      5   \n",
              "1381  [msp, said, awsbased, automated, virtual, agen...      0   \n",
              "2271  [hani, zeini, explains, artificial, intelligen...      0   \n",
              "2301  [foodbest, classlatest, newscastscircle, count...      7   \n",
              "\n",
              "     predicted_sentiment_yelp_new  sentiment_numeric   \n",
              "324                             p                  1  \\\n",
              "1333                            p                  1   \n",
              "1381                            p                  1   \n",
              "2271                            p                  1   \n",
              "2301                            p                  1   \n",
              "\n",
              "                                               entities   \n",
              "324   [array(['Devon Energy Corporation', 'ORG'], dt...  \\\n",
              "1333  [array(['Guardforce AI Co. Limited', 'ORG'], d...   \n",
              "1381  [array(['MSP', 'ORG'], dtype=object) array(['A...   \n",
              "2271  [array(['Hani Zeini', 'PERSON'], dtype=object)...   \n",
              "2301  [array(['ReleasesArgo AI Begins Driverless Veh...   \n",
              "\n",
              "                                           organization      products   \n",
              "324   [Devon Energy Corporation, Guardforce AI Co. L...            []  \\\n",
              "1333  [Guardforce AI Co. Limited, CinCor Pharma Inc....            []   \n",
              "1381  [MSP, AWS, AVA, Qantas, AVA, AVA, AVA, Qantas,...            []   \n",
              "2271  [Artificial Intelligence, The Thrive Global Co...  [JavaScript]   \n",
              "2301  [ReleasesArgo AI Begins Driverless Vehicle Ope...            []   \n",
              "\n",
              "                                                    GPE  \n",
              "324                                                  []  \n",
              "1333                                                 []  \n",
              "1381                                            [Perth]  \n",
              "2271                                                 []  \n",
              "2301  [Miami, Austin, Washington, D.C., Miami Beach,...  "
            ]
          },
          "execution_count": 58,
          "metadata": {},
          "output_type": "execute_result"
        }
      ],
      "source": [
        "summarize_neg_df = p_df[p_df['entities'].str.contains('business')]\n",
        "summarize_neg_df.head()"
      ]
    },
    {
      "cell_type": "code",
      "execution_count": null,
      "id": "f25d0cc4",
      "metadata": {
        "id": "f25d0cc4",
        "outputId": "fc55fecb-17a7-4bac-e824-d85e265dcb67"
      },
      "outputs": [
        {
          "data": {
            "text/plain": [
              "\"['Devon Energy Corporation (DVN), Guardforce AI Co. Limited (GFAI) | BOV News Sign in Home Share Market Snapshot Stock Gestures Trading Guidance Trending Equities Sign in Welcome!Log into your account your username your password Forgot your password? Password recovery Recover your password your email Search Home Share Market Snapshot Stock Gestures Trading Guidance Trending Equities More\""
            ]
          },
          "execution_count": 59,
          "metadata": {},
          "output_type": "execute_result"
        }
      ],
      "source": [
        "neg_text = str(summarize_neg_df['cleaned_text'].tolist())\n",
        "neg_text[:390]"
      ]
    },
    {
      "cell_type": "code",
      "execution_count": null,
      "id": "30b0d078",
      "metadata": {
        "id": "30b0d078",
        "outputId": "5352d1e4-ce1b-45d8-c4b2-12701e0c8971"
      },
      "outputs": [
        {
          "name": "stderr",
          "output_type": "stream",
          "text": [
            "Some weights of the model checkpoint at bert-large-uncased were not used when initializing BertModel: ['cls.predictions.decoder.weight', 'cls.predictions.transform.LayerNorm.weight', 'cls.predictions.transform.LayerNorm.bias', 'cls.predictions.bias', 'cls.seq_relationship.bias', 'cls.predictions.transform.dense.weight', 'cls.seq_relationship.weight', 'cls.predictions.transform.dense.bias']\n",
            "- This IS expected if you are initializing BertModel from the checkpoint of a model trained on another task or with another architecture (e.g. initializing a BertForSequenceClassification model from a BertForPreTraining model).\n",
            "- This IS NOT expected if you are initializing BertModel from the checkpoint of a model that you expect to be exactly identical (initializing a BertForSequenceClassification model from a BertForSequenceClassification model).\n"
          ]
        }
      ],
      "source": [
        "model = Summarizer()"
      ]
    },
    {
      "cell_type": "code",
      "execution_count": null,
      "id": "5451e448",
      "metadata": {
        "id": "5451e448",
        "outputId": "4b22d797-00fd-4787-d0ae-d6c96a7633af"
      },
      "outputs": [
        {
          "data": {
            "text/plain": [
              "\"['Devon Energy Corporation (DVN), Guardforce AI Co. Limited (GFAI) | BOV News Sign in Home Share Market Snapshot Stock Gestures Trading Guidance Trending Equities Sign in Welcome!Log into your account\""
            ]
          },
          "execution_count": 61,
          "metadata": {},
          "output_type": "execute_result"
        }
      ],
      "source": [
        "result = model(neg_text[:200], ratio=0.1)  # Specified with ratio\n",
        "result"
      ]
    },
    {
      "cell_type": "code",
      "execution_count": null,
      "id": "c917b1a1",
      "metadata": {
        "id": "c917b1a1"
      },
      "outputs": [],
      "source": []
    },
    {
      "cell_type": "code",
      "execution_count": null,
      "id": "f02e2e31",
      "metadata": {
        "id": "f02e2e31"
      },
      "outputs": [],
      "source": []
    }
  ],
  "metadata": {
    "kernelspec": {
      "display_name": "Python 3 (ipykernel)",
      "language": "python",
      "name": "python3"
    },
    "language_info": {
      "codemirror_mode": {
        "name": "ipython",
        "version": 3
      },
      "file_extension": ".py",
      "mimetype": "text/x-python",
      "name": "python",
      "nbconvert_exporter": "python",
      "pygments_lexer": "ipython3",
      "version": "3.10.11"
    },
    "colab": {
      "provenance": []
    }
  },
  "nbformat": 4,
  "nbformat_minor": 5
}